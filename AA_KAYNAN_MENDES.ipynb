{
 "cells": [
  {
   "cell_type": "code",
   "execution_count": null,
   "metadata": {},
   "outputs": [],
   "source": [
    "import pandas as pd\n",
    "\n",
    "df_tabela = pd.read_csv(\"planilha.csv\",sep=';',low_memory=False)\n",
    "print(df_tabela)\n",
    "\n",
    "#espaço amostral"
   ]
  },
  {
   "cell_type": "code",
   "execution_count": null,
   "metadata": {},
   "outputs": [],
   "source": [
    "df_tabela.value_counts('ÓRGÃO')\n",
    "\n",
    "#quantidade de servidores no corpo de bombeiros \n",
    "#órgão com maior quantidade de servidores "
   ]
  },
  {
   "cell_type": "code",
   "execution_count": null,
   "metadata": {},
   "outputs": [],
   "source": [
    "pd.set_option('display.max_rows',None)\n",
    "df_tabela.value_counts('FUNÇÃO')\n",
    "\n",
    "#lista com todas as funções listadas na tebela "
   ]
  },
  {
   "cell_type": "code",
   "execution_count": null,
   "metadata": {},
   "outputs": [],
   "source": [
    "valor1 = 66.126\n",
    "valor2 = 237.125 \n",
    "\n",
    "resultado = valor1 / valor2\n",
    "print(resultado)\n",
    "\n",
    "R = resultado * 100\n",
    "print(R)\n",
    "\n",
    "#porcentagem de escolher ao acaso um funcionário que trabalha na secretária de educação"
   ]
  },
  {
   "cell_type": "code",
   "execution_count": null,
   "metadata": {},
   "outputs": [],
   "source": [
    "df_tabela['REMUNERAÇÃO BÁSICA'] = df_tabela['REMUNERAÇÃO BÁSICA'].str.replace(',', '').astype(float)\n",
    "linha = df_tabela[df_tabela['REMUNERAÇÃO BÁSICA'] == 6092935.0]\n",
    "print(linha)\n",
    "\n",
    "df_tabela['REMUNERAÇÃO BÁSICA'].max()\n",
    "\n",
    "#aqui eu tenho o servidor com maior remuneração básica e o ógão a qual pertence "
   ]
  },
  {
   "cell_type": "code",
   "execution_count": null,
   "metadata": {},
   "outputs": [],
   "source": [
    "df_tabela['BRUTO'] = df_tabela['BRUTO'].str.replace(',', '').astype(float)\n",
    "df_tabela.groupby(df_tabela['ÓRGÃO'])['BRUTO'].mean()\n",
    "\n",
    "#aqui eu tenho o órgão com maior média salarial "
   ]
  },
  {
   "cell_type": "code",
   "execution_count": null,
   "metadata": {},
   "outputs": [],
   "source": [
    "df_tabela['BRUTO'].sum()\n",
    "\n",
    "#valor pago para todos os funcionários públicos "
   ]
  },
  {
   "cell_type": "code",
   "execution_count": null,
   "metadata": {},
   "outputs": [],
   "source": [
    "import seaborn as sns\n",
    "import matplotlib.pyplot as plt\n",
    "\n",
    "df_tabela['LÍQUIDO'] = df_tabela['LÍQUIDO'].str.replace(',', '').astype(float)\n",
    "val= df_tabela['LÍQUIDO']\n",
    "org= df_tabela['SITUAÇÃO']\n",
    "\n",
    "\n",
    "sns.set( rc= {'figure.figsize':(15,15)})\n",
    "sns.boxplot(x=val, y=org, data=df_tabela)\n",
    "plt.show()\n",
    "\n",
    "#gráfico boxplot com remuneração líquida"
   ]
  },
  {
   "cell_type": "code",
   "execution_count": null,
   "metadata": {},
   "outputs": [],
   "source": [
    "vp = df_tabela.groupby(df_tabela['ÓRGÃO'])['BRUTO'].sum()\n",
    "labels= df_tabela['ÓRGÃO']\n",
    "\n",
    "plt.pie(vp, autopct='%1.1f%%')\n",
    "plt.axis('equal')\n",
    "plt.show()\n",
    "\n",
    "#foi o melhor e mais próximo que consegui do gráfico de pizza "
   ]
  },
  {
   "cell_type": "code",
   "execution_count": null,
   "metadata": {},
   "outputs": [],
   "source": [
    "df_tabela.groupby(df_tabela['ÓRGÃO'])['LÍQUIDO'].describe()\n",
    "\n",
    "#órgão que possui menor variação no salário líquido \n",
    "#defensoria publica do distrito federal "
   ]
  },
  {
   "cell_type": "code",
   "execution_count": null,
   "metadata": {},
   "outputs": [],
   "source": [
    "df_tabela['IRRF'] = df_tabela['IRRF'].str.replace(',', '').astype(float)\n",
    "irfl= df_tabela['IRRF'].corr(df_tabela['LÍQUIDO'])\n",
    "irfb= df_tabela['IRRF'].corr(df_tabela['BRUTO'])\n",
    "print(irfl)\n",
    "print(irfb)\n",
    "\n",
    "#índice de correlação IRRF para LÍQIUDO E BRUTO\n",
    "#maior correlação é a do bruto "
   ]
  },
  {
   "cell_type": "code",
   "execution_count": null,
   "metadata": {},
   "outputs": [],
   "source": [
    "df_tabela['SALARIAL MAIOR'] = df_tabela['BRUTO'] - df_tabela['LÍQUIDO']\n",
    "print(df_tabela['SALARIAL MAIOR'])\n",
    "\n",
    "#nova coluna adicionada ('salarial maior')"
   ]
  },
  {
   "cell_type": "code",
   "execution_count": null,
   "metadata": {},
   "outputs": [],
   "source": [
    "df_tabela['IRRF'].corr(df_tabela['SALARIAL MAIOR'])\n",
    "\n"
   ]
  },
  {
   "cell_type": "code",
   "execution_count": null,
   "metadata": {},
   "outputs": [],
   "source": [
    "df_tabela['PAGAMENTOS A MAIOR'] = df_tabela['PAGAMENTOS A MAIOR'].str.replace(',', '').astype(float)\n",
    "slm = df_tabela.groupby(df_tabela['ÓRGÃO'])['IRRF'].corr(df_tabela['PAGAMENTOS A MAIOR'])\n",
    "slm.dropna()"
   ]
  }
 ],
 "metadata": {
  "kernelspec": {
   "display_name": "Python 3",
   "language": "python",
   "name": "python3"
  },
  "language_info": {
   "codemirror_mode": {
    "name": "ipython",
    "version": 3
   },
   "file_extension": ".py",
   "mimetype": "text/x-python",
   "name": "python",
   "nbconvert_exporter": "python",
   "pygments_lexer": "ipython3",
   "version": "3.11.8"
  }
 },
 "nbformat": 4,
 "nbformat_minor": 2
}
